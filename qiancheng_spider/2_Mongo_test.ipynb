{
 "cells": [
  {
   "cell_type": "code",
   "execution_count": 1,
   "metadata": {},
   "outputs": [],
   "source": [
    "import pymongo"
   ]
  },
  {
   "cell_type": "code",
   "execution_count": 2,
   "metadata": {},
   "outputs": [],
   "source": [
    "conn = pymongo.MongoClient()"
   ]
  },
  {
   "cell_type": "code",
   "execution_count": 3,
   "metadata": {},
   "outputs": [
    {
     "data": {
      "text/plain": [
       "['admin', 'config', 'local', 'test_database']"
      ]
     },
     "execution_count": 3,
     "metadata": {},
     "output_type": "execute_result"
    }
   ],
   "source": [
    "conn.list_database_names()"
   ]
  },
  {
   "cell_type": "code",
   "execution_count": 4,
   "metadata": {},
   "outputs": [],
   "source": [
    "db = conn.test_database"
   ]
  },
  {
   "cell_type": "code",
   "execution_count": 5,
   "metadata": {},
   "outputs": [
    {
     "data": {
      "text/plain": [
       "['posts']"
      ]
     },
     "execution_count": 5,
     "metadata": {},
     "output_type": "execute_result"
    }
   ],
   "source": [
    "db.list_collection_names()"
   ]
  },
  {
   "cell_type": "code",
   "execution_count": 16,
   "metadata": {},
   "outputs": [],
   "source": [
    "post_col = db.posts"
   ]
  },
  {
   "cell_type": "code",
   "execution_count": 17,
   "metadata": {},
   "outputs": [
    {
     "data": {
      "text/plain": [
       "3"
      ]
     },
     "execution_count": 17,
     "metadata": {},
     "output_type": "execute_result"
    }
   ],
   "source": [
    "post_col.estimated_document_count ()"
   ]
  },
  {
   "cell_type": "code",
   "execution_count": 22,
   "metadata": {},
   "outputs": [
    {
     "data": {
      "text/plain": [
       "pymongo.cursor.Cursor"
      ]
     },
     "execution_count": 22,
     "metadata": {},
     "output_type": "execute_result"
    }
   ],
   "source": [
    "type(post_col.find())"
   ]
  },
  {
   "cell_type": "code",
   "execution_count": 28,
   "metadata": {},
   "outputs": [
    {
     "name": "stdout",
     "output_type": "stream",
     "text": [
      "{'_id': ObjectId('5cc91a9a180f4f5abad29f00'), 'author': 'yangge', 'text': '云计算-NoSQL', 'tags': ['mongodb', 'python', 'pymongo'], 'date': datetime.datetime(2019, 5, 1, 12, 3, 38, 529000)}\n",
      "{'_id': ObjectId('5cc91b1405ae2b3b3279294b'), 'author': 'yangge', 'text': '云计算-NoSQL', 'tags': ['mongodb', 'python', 'pymongo'], 'date': datetime.datetime(2019, 5, 1, 12, 5, 40, 290000)}\n",
      "{'_id': ObjectId('5cc91b47bd4cc3101313ac05'), 'author': 'yangge', 'text': '云计算-NoSQL', 'tags': ['mongodb', 'python', 'pymongo'], 'date': datetime.datetime(2019, 5, 1, 12, 6, 31, 354000)}\n"
     ]
    }
   ],
   "source": [
    "for cousor in post_col.find():\n",
    "    print(cousor)"
   ]
  },
  {
   "cell_type": "code",
   "execution_count": 35,
   "metadata": {},
   "outputs": [],
   "source": [
    "data ={\n",
    "    u\"详情页链接\":\"https://jobs.51job.com/fuzhou-tjq/110149551.html?s=01&t=0\",\n",
    "    u\"职位名\":u\"深度学习工程师\",\n",
    "    u\"公司名\":u\"思凯迈（福州）科技有限公司\",\n",
    "    u\"工作地点\":u\"异地招聘\",\n",
    "    u\"薪资\":\"1.5-2.5万/月\",\n",
    "    u\"发布时间\":\"04-30\"\n",
    "}"
   ]
  },
  {
   "cell_type": "code",
   "execution_count": 36,
   "metadata": {
    "scrolled": true
   },
   "outputs": [
    {
     "data": {
      "text/plain": [
       "<pymongo.results.InsertOneResult at 0x3c34430248>"
      ]
     },
     "execution_count": 36,
     "metadata": {},
     "output_type": "execute_result"
    }
   ],
   "source": [
    "post_col.insert_one(data)"
   ]
  },
  {
   "cell_type": "code",
   "execution_count": 38,
   "metadata": {},
   "outputs": [
    {
     "name": "stdout",
     "output_type": "stream",
     "text": [
      "{'_id': ObjectId('5cc91a9a180f4f5abad29f00'), 'author': 'yangge', 'text': '云计算-NoSQL', 'tags': ['mongodb', 'python', 'pymongo'], 'date': datetime.datetime(2019, 5, 1, 12, 3, 38, 529000)}\n",
      "{'_id': ObjectId('5cc91b1405ae2b3b3279294b'), 'author': 'yangge', 'text': '云计算-NoSQL', 'tags': ['mongodb', 'python', 'pymongo'], 'date': datetime.datetime(2019, 5, 1, 12, 5, 40, 290000)}\n",
      "{'_id': ObjectId('5cc91b47bd4cc3101313ac05'), 'author': 'yangge', 'text': '云计算-NoSQL', 'tags': ['mongodb', 'python', 'pymongo'], 'date': datetime.datetime(2019, 5, 1, 12, 6, 31, 354000)}\n",
      "{'_id': ObjectId('5cc9253e5262aa58da8e117c'), '详情页链接': 'https://jobs.51job.com/fuzhou-tjq/110149551.html?s=01&t=0', '职位名': '深度学习工程师', '公司名': '思凯迈（福州）科技有限公司', '工作地点': '异地招聘', '薪资': '1.5-2.5万/月', '发布时间': '04-30'}\n"
     ]
    }
   ],
   "source": [
    "for cousor in post_col.find():\n",
    "    print(cousor)"
   ]
  }
 ],
 "metadata": {
  "kernelspec": {
   "display_name": "Python 3",
   "language": "python",
   "name": "python3"
  },
  "language_info": {
   "codemirror_mode": {
    "name": "ipython",
    "version": 3
   },
   "file_extension": ".py",
   "mimetype": "text/x-python",
   "name": "python",
   "nbconvert_exporter": "python",
   "pygments_lexer": "ipython3",
   "version": "3.6.3"
  }
 },
 "nbformat": 4,
 "nbformat_minor": 2
}
