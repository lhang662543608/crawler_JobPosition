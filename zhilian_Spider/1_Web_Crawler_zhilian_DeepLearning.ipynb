{
 "cells": [
  {
   "cell_type": "code",
   "execution_count": 1,
   "metadata": {},
   "outputs": [],
   "source": [
    "import requests\n",
    "import json\n",
    "import os\n",
    "import pandas as pd"
   ]
  },
  {
   "cell_type": "code",
   "execution_count": 8,
   "metadata": {},
   "outputs": [],
   "source": [
    "def crawler_data(url,start,pagesize,info):\n",
    "    '''\n",
    "        参数url：需要爬取得网址的url\n",
    "        参数start：该参数指定从那一页开始抓取\n",
    "        参数pagesize：每一次抓取得页数\n",
    "    '''\n",
    "    post_param = {\n",
    "              'start': start,\n",
    "              'pageSize':pagesize,\n",
    "              'cityId':'538',  # 该参数表示你所想搜寻的岗位的城市==>上海为538 北京为530 全国为489\n",
    "              'salary':'0,0',  # 期望的薪资==> -1 表示不限\n",
    "              'workExperience':'-1', # 工作经验 ==> -1 表示不限\n",
    "              'companyType':'-1', # 公司性质 ==> -1 表示不限\n",
    "              'employmentType':'-1', \n",
    "              'jobWelfareTag':'-1', \n",
    "              'kw':info, # 你想查找的岗位名称\n",
    "              'kt':'3',\n",
    "              '_v':'0.69816371',\n",
    "              'x-zp-page-request-id': '625b805a75f2435ba4db425bd29b8d4f-1556416701269-989985'\n",
    "             }\n",
    "    # 设置headers防止反扒\n",
    "    headers={\n",
    "    'User-Agent': 'Mozilla/5.0 (Windows NT 10.0; WOW64) AppleWebKit/537.36 (KHTML, like Gecko) Chrome/72.0.3626.109 Safari/537.36'\n",
    "    }\n",
    "    response=requests.get(url,params=post_param,headers=headers,verify = True) # 智联采用https协议，verify = True防止异常产生\n",
    "    return response"
   ]
  },
  {
   "cell_type": "code",
   "execution_count": 15,
   "metadata": {},
   "outputs": [],
   "source": [
    "url = \"https://fe-api.zhaopin.com/c/i/sou\" # 智联招聘的岗位信息使用的js加载，分析可得到其url\n",
    "info = \"深度学习\" # 你想要查询的岗位名称\n",
    "start = 0 # 起始页\n",
    "pageSize = 100 # 每页所要拿取得招聘信息的数目\n",
    "res =crawler_data(url,start,pageSize,info)"
   ]
  },
  {
   "cell_type": "code",
   "execution_count": 16,
   "metadata": {},
   "outputs": [],
   "source": [
    "str_data=res.content.decode(\"utf8\") \n",
    "json_data=json.loads(str_data) # 将json数据转换为python对象"
   ]
  },
  {
   "cell_type": "code",
   "execution_count": 18,
   "metadata": {},
   "outputs": [],
   "source": [
    "if json_data[\"code\"]==200:\n",
    "    for i in range(pageSize):\n",
    "        jobname = json_data[\"data\"][\"results\"][i][\"jobName\"]\n",
    "        salary = json_data[\"data\"][\"results\"][i][\"salary\"]\n",
    "        positionURL = json_data[\"data\"][\"results\"][i][\"positionURL\"]\n",
    "        company_name = json_data[\"data\"][\"results\"][i][\"company\"][\"name\"]\n",
    "        eduLevel = json_data[\"data\"][\"results\"][i][\"eduLevel\"][\"name\"]\n",
    "        workingExp = json_data[\"data\"][\"results\"][i][\"workingExp\"][\"name\"]\n",
    "        d ={\n",
    "                '岗位名称':jobname,\n",
    "                '薪资':salary,\n",
    "                '详情页URL':positionURL,\n",
    "                '公司名称':company_name,\n",
    "                '学历':eduLevel,\n",
    "                '工作经验':workingExp\n",
    "        }\n",
    "        df = pd.DataFrame(data=d,index=[i])    \n",
    "        df.to_csv(\"列表页.csv\",mode='a',header=None,index=None)"
   ]
  }
 ],
 "metadata": {
  "kernelspec": {
   "display_name": "Python 3",
   "language": "python",
   "name": "python3"
  },
  "language_info": {
   "codemirror_mode": {
    "name": "ipython",
    "version": 3
   },
   "file_extension": ".py",
   "mimetype": "text/x-python",
   "name": "python",
   "nbconvert_exporter": "python",
   "pygments_lexer": "ipython3",
   "version": "3.6.3"
  }
 },
 "nbformat": 4,
 "nbformat_minor": 2
}
