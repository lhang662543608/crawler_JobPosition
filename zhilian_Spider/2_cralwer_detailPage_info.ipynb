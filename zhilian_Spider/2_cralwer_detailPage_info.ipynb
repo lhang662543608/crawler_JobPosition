{
 "cells": [
  {
   "cell_type": "code",
   "execution_count": 1,
   "metadata": {},
   "outputs": [],
   "source": [
    "import pandas as pd\n",
    "from lxml import etree\n",
    "import requests"
   ]
  },
  {
   "cell_type": "code",
   "execution_count": 2,
   "metadata": {},
   "outputs": [],
   "source": [
    "data = pd.read_csv(\"listPage.csv\",encoding = \"gbk\",header=None)\n",
    "data.columns=[\"岗位名称\",\"薪资\",\"详情页网址\",\"公司名称\",\"学历\",\"工作经验\"]"
   ]
  },
  {
   "cell_type": "code",
   "execution_count": 3,
   "metadata": {},
   "outputs": [
    {
     "data": {
      "text/html": [
       "<div>\n",
       "<style scoped>\n",
       "    .dataframe tbody tr th:only-of-type {\n",
       "        vertical-align: middle;\n",
       "    }\n",
       "\n",
       "    .dataframe tbody tr th {\n",
       "        vertical-align: top;\n",
       "    }\n",
       "\n",
       "    .dataframe thead th {\n",
       "        text-align: right;\n",
       "    }\n",
       "</style>\n",
       "<table border=\"1\" class=\"dataframe\">\n",
       "  <thead>\n",
       "    <tr style=\"text-align: right;\">\n",
       "      <th></th>\n",
       "      <th>岗位名称</th>\n",
       "      <th>薪资</th>\n",
       "      <th>详情页网址</th>\n",
       "      <th>公司名称</th>\n",
       "      <th>学历</th>\n",
       "      <th>工作经验</th>\n",
       "    </tr>\n",
       "  </thead>\n",
       "  <tbody>\n",
       "    <tr>\n",
       "      <th>0</th>\n",
       "      <td>深度学习工程师（研发工程师）</td>\n",
       "      <td>15K-25K</td>\n",
       "      <td>https://jobs.zhaopin.com/CZ659114530J002402645...</td>\n",
       "      <td>思凯迈(福州)科技有限公司</td>\n",
       "      <td>硕士</td>\n",
       "      <td>5-10年</td>\n",
       "    </tr>\n",
       "    <tr>\n",
       "      <th>1</th>\n",
       "      <td>深度学习专家</td>\n",
       "      <td>50K-80K</td>\n",
       "      <td>https://jobs.zhaopin.com/CZ659114530J002388823...</td>\n",
       "      <td>思凯迈(福州)科技有限公司</td>\n",
       "      <td>硕士</td>\n",
       "      <td>5-10年</td>\n",
       "    </tr>\n",
       "    <tr>\n",
       "      <th>2</th>\n",
       "      <td>深度学习算法工程师（之江智能）</td>\n",
       "      <td>10K-20K</td>\n",
       "      <td>https://jobs.zhaopin.com/CC199177614J000899949...</td>\n",
       "      <td>上海之江生物科技股份有限公司</td>\n",
       "      <td>硕士</td>\n",
       "      <td>3-5年</td>\n",
       "    </tr>\n",
       "    <tr>\n",
       "      <th>3</th>\n",
       "      <td>深度学习算法工程师</td>\n",
       "      <td>20K-30K</td>\n",
       "      <td>https://jobs.zhaopin.com/CC166275810J001920479...</td>\n",
       "      <td>无锡先导智能装备股份有限公司</td>\n",
       "      <td>硕士</td>\n",
       "      <td>3-5年</td>\n",
       "    </tr>\n",
       "    <tr>\n",
       "      <th>4</th>\n",
       "      <td>初级深度学习算法工程师</td>\n",
       "      <td>薪资面议</td>\n",
       "      <td>https://jobs.zhaopin.com/CC549324722J003507497...</td>\n",
       "      <td>苏州科技城</td>\n",
       "      <td>本科</td>\n",
       "      <td>3-5年</td>\n",
       "    </tr>\n",
       "  </tbody>\n",
       "</table>\n",
       "</div>"
      ],
      "text/plain": [
       "              岗位名称       薪资  \\\n",
       "0   深度学习工程师（研发工程师）  15K-25K   \n",
       "1           深度学习专家  50K-80K   \n",
       "2  深度学习算法工程师（之江智能）  10K-20K   \n",
       "3        深度学习算法工程师  20K-30K   \n",
       "4      初级深度学习算法工程师     薪资面议   \n",
       "\n",
       "                                               详情页网址            公司名称  学历  \\\n",
       "0  https://jobs.zhaopin.com/CZ659114530J002402645...   思凯迈(福州)科技有限公司  硕士   \n",
       "1  https://jobs.zhaopin.com/CZ659114530J002388823...   思凯迈(福州)科技有限公司  硕士   \n",
       "2  https://jobs.zhaopin.com/CC199177614J000899949...  上海之江生物科技股份有限公司  硕士   \n",
       "3  https://jobs.zhaopin.com/CC166275810J001920479...  无锡先导智能装备股份有限公司  硕士   \n",
       "4  https://jobs.zhaopin.com/CC549324722J003507497...           苏州科技城  本科   \n",
       "\n",
       "    工作经验  \n",
       "0  5-10年  \n",
       "1  5-10年  \n",
       "2   3-5年  \n",
       "3   3-5年  \n",
       "4   3-5年  "
      ]
     },
     "execution_count": 3,
     "metadata": {},
     "output_type": "execute_result"
    }
   ],
   "source": [
    "data.head(5)"
   ]
  },
  {
   "cell_type": "code",
   "execution_count": 4,
   "metadata": {},
   "outputs": [],
   "source": [
    "detailPageUrl = data[\"详情页网址\"]"
   ]
  },
  {
   "cell_type": "code",
   "execution_count": 13,
   "metadata": {
    "scrolled": true
   },
   "outputs": [],
   "source": [
    "list_problem = []\n",
    "file = open('./detail.txt', 'a', encoding='utf-8')\n",
    "for i  in range(len(detailPageUrl)):\n",
    "    #print(\"-\"*24+str(url)+\"-\"*24+str(i))\n",
    "    url = detailPageUrl[i]\n",
    "    headers={\n",
    "    'User-Agent': 'Mozilla/5.0 (Windows NT 10.0; WOW64) AppleWebKit/537.36 (KHTML, like Gecko) Chrome/72.0.3626.109 Safari/537.36'\n",
    "    }\n",
    "    response = requests.get(url,headers=headers)\n",
    "    html = etree.HTML(response.text)\n",
    "    if i==0:\n",
    "        p_length = len(html.xpath('//*[@class=\"describtion\"]/div[2]/span/*'))\n",
    "        for inx in range(1,p_length+1):\n",
    "            detail_data = html.xpath('//*[@class=\"describtion\"]/div[2]/span/p[%s]'%str(inx))[0].xpath('string(.)')\n",
    "            if detail_data == '':\n",
    "                list_problem.append(url)\n",
    "                break\n",
    "            else:\n",
    "                #print(detail_data)\n",
    "                file.write(detail_data+'\\n')\n",
    "    else:\n",
    "        p_length_test = len(html.xpath('//*[@class=\"describtion__detail-content\"]/*'))\n",
    "        for i in range(p_length_test):\n",
    "            detail_data = html.xpath('//*[@class=\"describtion__detail-content\"]/*')[i].xpath('string(.)')\n",
    "            if detail_data == '':\n",
    "                list_problem.append(url)\n",
    "                break\n",
    "            else:\n",
    "                #print(detail_data)\n",
    "                file.write(detail_data+'\\n')\n",
    "file.close()"
   ]
  },
  {
   "cell_type": "code",
   "execution_count": 6,
   "metadata": {},
   "outputs": [
    {
     "data": {
      "text/plain": [
       "63"
      ]
     },
     "execution_count": 6,
     "metadata": {},
     "output_type": "execute_result"
    }
   ],
   "source": [
    "len(list_problem)"
   ]
  },
  {
   "cell_type": "code",
   "execution_count": 10,
   "metadata": {},
   "outputs": [],
   "source": [
    "file = open('./problem_url.txt', 'a', encoding='utf-8')\n",
    "for aa in list_problem:\n",
    "    file.write(aa+'\\n')\n",
    "file.close()"
   ]
  }
 ],
 "metadata": {
  "kernelspec": {
   "display_name": "Python 3",
   "language": "python",
   "name": "python3"
  },
  "language_info": {
   "codemirror_mode": {
    "name": "ipython",
    "version": 3
   },
   "file_extension": ".py",
   "mimetype": "text/x-python",
   "name": "python",
   "nbconvert_exporter": "python",
   "pygments_lexer": "ipython3",
   "version": "3.6.3"
  }
 },
 "nbformat": 4,
 "nbformat_minor": 2
}
