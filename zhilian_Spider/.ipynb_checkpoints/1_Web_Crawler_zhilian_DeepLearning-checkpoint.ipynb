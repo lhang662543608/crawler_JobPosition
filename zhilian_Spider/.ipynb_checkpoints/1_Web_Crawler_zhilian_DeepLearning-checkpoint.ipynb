{
 "cells": [
  {
   "cell_type": "code",
   "execution_count": 1,
   "metadata": {},
   "outputs": [],
   "source": [
    "import requests\n",
    "import json\n",
    "import os\n",
    "import pandas as pd"
   ]
  },
  {
   "cell_type": "code",
   "execution_count": 2,
   "metadata": {},
   "outputs": [],
   "source": [
    "def crawler_data(url,start,pagesize):\n",
    "    '''\n",
    "        参数url：需要爬取得网址的url\n",
    "        参数start：该参数指定从那一页开始抓取\n",
    "        参数pagesize：每一次抓取得页数\n",
    "    '''\n",
    "    post_param = {\n",
    "              'start': start,\n",
    "              'pageSize':pagesize,\n",
    "              'cityId':'538',  # 该参数表示你所想搜寻的岗位的城市==>上海为538 北京为530 全国为489\n",
    "              'salary':'0,0',  # 期望的薪资==> -1 表示不限\n",
    "              'workExperience':'-1', # 工作经验 ==> -1 表示不限\n",
    "              'companyType':'-1', # 公司性质 ==> -1 表示不限\n",
    "              'employmentType':'-1', \n",
    "              'jobWelfareTag':'-1', \n",
    "              'kw':'深度学习', # 你想查找的岗位名称\n",
    "              'kt':'3',\n",
    "              '_v':'0.69816371',\n",
    "              'x-zp-page-request-id': '625b805a75f2435ba4db425bd29b8d4f-1556416701269-989985'\n",
    "             }\n",
    "    # 设置headers防止反扒\n",
    "    headers={\n",
    "    'User-Agent': 'Mozilla/5.0 (Windows NT 10.0; WOW64) AppleWebKit/537.36 (KHTML, like Gecko) Chrome/72.0.3626.109 Safari/537.36'\n",
    "    \n",
    "    }\n",
    "    response=requests.get(url,params=post_param,headers=headers,verify = False)\n",
    "    return response"
   ]
  },
  {
   "cell_type": "code",
   "execution_count": 3,
   "metadata": {},
   "outputs": [
    {
     "name": "stderr",
     "output_type": "stream",
     "text": [
      "c:\\python\\python36\\lib\\site-packages\\urllib3\\connectionpool.py:847: InsecureRequestWarning: Unverified HTTPS request is being made. Adding certificate verification is strongly advised. See: https://urllib3.readthedocs.io/en/latest/advanced-usage.html#ssl-warnings\n",
      "  InsecureRequestWarning)\n"
     ]
    },
    {
     "data": {
      "text/plain": [
       "'{\"code\":200,\"data\":{\"numFound\":579,\"numTotal\":579,\"chatTotal\":0,\"results\":[{\"applyType\":\"1\",\"updateDate\":\"2019-04-28 09:22:45\",\"refreshMulscore\":\"0.0\",\"g_sort\":\"sort-ps-score-pqks-ranking\",\"endDate\":\"2019-05-22 09:49:57\",\"city\":{\"display\":\"上海\",\"items\":[{\"code\":\"538\",\"name\":\"上海\"}]},\"showLicence\":0,\"saleType\":0,\"positionURL\":\"https://jobs.zhaopin.com/CZ659114530J00240264506.htm\",\"g_weight\":0,\"industry\":\"160400,160000\",\"welfare\":[\"周末双休\",\"五险一金\",\"创业公司\",\"定期团建\"],\"salary\":\"15K-25K\",\"SOU_POSITION_ID\":\"CZ659114530J00240264506\",\"duplicated\":0,\"geo\":{\"lon\":\"121.473701\",\"lat\":\"31.230416\"},\"score\":614.8727,\"number\":\"CZ659114530J00240264506\",\"vipLevel\":1002,\"recruitCount\":2,\"workingExp\":{\"code\":\"510\",\"name\":\"5-10年\"},\"companyScore\":0,\"tagIntHighend\":0,\"company\":{\"number\":\"CZ659114530\",\"size\":{\"code\":\"2\",\"name\":\"20-99人\"},\"name\":\"思凯迈(福州)科技有限公司\",\"type\":{\"code\":\"4\",\"name\":\"合资\"},\"url\":\"https://company.zhaopin.com/CZ659114530.htm\"},\"seo\":\"0\",\"jobType\":{\"display\":\"软件/互联网开发/系统集成,算法工程师\",\"items\":[{\"code\":\"160000\",\"name\":\"软件/互联网开发/系统集成\"},{\"code\":\"2034\",\"name\":\"算法工程师\"}]},\"g_query\":\"query-ps-score-3\",\"resumeCount\":2,\"createDate\":\"2019-04-22 09:49:57\",\"jobName\":\"深度学习工程师（研发工程师）\",\"manualScore\":\"0.0\",\"eduLevel\":{\"code\":\"3\",\"name\":\"硕士\"},\"companyLogo\":\"\",\"futureJob\":false,\"emplType\":\"全职\",\"g_source\":\"source-solr-position\",\"rootOrgId\":65911453,\"SOU_POSITION_SOURCE_TYPE\":1,\"recentAndTotal\":{\"applyTotal\":\"2\",\"exposureTotal\":\"375\",\"clickTotal\":\"9\",\"exposureRecent\":\"0\",\"clickRecent\":\"0\",\"applyRecent\":\"0\"},\"tags\":[],\"businessArea\":\"人民广场\",\"positionLabel\":\"{\\\\\"qualifications\\\\\":null,\\\\\"chatWindow\\\\\":20,\\\\\"jobLight\\\\\":[\\\\\"周末双休\\\\\",\\\\\"五险一金\\\\\",\\\\\"创业公司\\\\\",\\\\\"定期团建\\\\\"],\\\\\"role\\\\\":null,\\\\\"companyTag\\\\\":null,\\\\\"level\\\\\":null,\\\\\"refreshLevel\\\\\":1,\\\\\"skill\\\\\":[\\\\\"深度学习\\\\\",\\\\\"算法\\\\\",\\\\\"人脸识别\\\\\"]}\",\"expandCount\":0,\"jobTag\":{\"searchTag\":\"深度学习,算法,人脸识别,周末双休,五险一金,创业公司,定期团建\"},\"feedbackRation\":0.8636,\"interview\":0,\"staffId\":716812960,\"selected\":false,\"applied\":false,\"collected\":false,\"isShow\":false,\"timeState\":\"最新\",\"rate\":\"86%\"}],\"debugInfo\":null,\"loginfo\":null,\"type\":null,\"facets\":[],\"extend\":\"\",\"method\":\"\",\"taskId\":\"c2147bfe27254d18b5084ab1ca27a5d6\",\"scores\":null,\"elapsed\":[\"gateway 内部执行耗时187毫秒\",\"gateway 调用总耗时0毫秒\",\"psapi 共耗时192毫秒\"],\"time\":\"2019-04-28 13:00:14\"}}'"
      ]
     },
     "execution_count": 3,
     "metadata": {},
     "output_type": "execute_result"
    }
   ],
   "source": [
    "url = \"https://fe-api.zhaopin.com/c/i/sou\" # 智联招聘的岗位信息使用的js加载，分析可得到其url\n",
    "crawler_data(url,0,1)"
   ]
  }
 ],
 "metadata": {
  "kernelspec": {
   "display_name": "Python 3",
   "language": "python",
   "name": "python3"
  },
  "language_info": {
   "codemirror_mode": {
    "name": "ipython",
    "version": 3
   },
   "file_extension": ".py",
   "mimetype": "text/x-python",
   "name": "python",
   "nbconvert_exporter": "python",
   "pygments_lexer": "ipython3",
   "version": "3.6.3"
  }
 },
 "nbformat": 4,
 "nbformat_minor": 2
}
